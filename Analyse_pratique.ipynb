{
 "cells": [
  {
   "cell_type": "code",
   "execution_count": 4,
   "id": "0a4357c3-831e-4afd-b3a8-751cfcee181a",
   "metadata": {},
   "outputs": [],
   "source": [
    "import numpy as np\n",
    "import pandas as pd\n",
    "import matplotlib.pyplot as plt\n"
   ]
  },
  {
   "cell_type": "markdown",
   "id": "71ec5b52-3530-410c-9f01-5d752e0a0431",
   "metadata": {},
   "source": [
    "**Avertissement :** Si vous avez utilisé la fonction `std()` de Pandas pour calculer l'écart type, gardez à l'esprit qu'elle utilise une correction de biais par défaut. \n",
    "\n",
    "La formule pour l'écart type sans biais est la suivante :\n",
    "\n",
    "$$\n",
    "\\sigma = \\sqrt{\\frac{\\sum_{i=1}^{N}(x_i - \\bar{x})^2}{N-1}}\n",
    "$$\n"
   ]
  },
  {
   "cell_type": "markdown",
   "id": "6d66ad66-7bf1-4f66-ad80-304bcfe24f6d",
   "metadata": {},
   "source": [
    "### Exemple:\n",
    "![](images/1.png)\n"
   ]
  },
  {
   "cell_type": "markdown",
   "id": "ba679b6c-6493-4d31-aa72-41ebf3290f53",
   "metadata": {},
   "source": [
    "### Etape 0: importer les données"
   ]
  },
  {
   "cell_type": "code",
   "execution_count": 5,
   "id": "c2eb9878-55be-47b8-879d-61f73e680220",
   "metadata": {},
   "outputs": [
    {
     "data": {
      "text/html": [
       "<div>\n",
       "<style scoped>\n",
       "    .dataframe tbody tr th:only-of-type {\n",
       "        vertical-align: middle;\n",
       "    }\n",
       "\n",
       "    .dataframe tbody tr th {\n",
       "        vertical-align: top;\n",
       "    }\n",
       "\n",
       "    .dataframe thead th {\n",
       "        text-align: right;\n",
       "    }\n",
       "</style>\n",
       "<table border=\"1\" class=\"dataframe\">\n",
       "  <thead>\n",
       "    <tr style=\"text-align: right;\">\n",
       "      <th></th>\n",
       "      <th>Poids</th>\n",
       "      <th>Taille</th>\n",
       "      <th>Age</th>\n",
       "      <th>Note</th>\n",
       "    </tr>\n",
       "    <tr>\n",
       "      <th>eleve</th>\n",
       "      <th></th>\n",
       "      <th></th>\n",
       "      <th></th>\n",
       "      <th></th>\n",
       "    </tr>\n",
       "  </thead>\n",
       "  <tbody>\n",
       "    <tr>\n",
       "      <th>1</th>\n",
       "      <td>45</td>\n",
       "      <td>1.50</td>\n",
       "      <td>13</td>\n",
       "      <td>14</td>\n",
       "    </tr>\n",
       "    <tr>\n",
       "      <th>2</th>\n",
       "      <td>50</td>\n",
       "      <td>1.60</td>\n",
       "      <td>13</td>\n",
       "      <td>16</td>\n",
       "    </tr>\n",
       "    <tr>\n",
       "      <th>3</th>\n",
       "      <td>50</td>\n",
       "      <td>1.65</td>\n",
       "      <td>13</td>\n",
       "      <td>15</td>\n",
       "    </tr>\n",
       "    <tr>\n",
       "      <th>4</th>\n",
       "      <td>60</td>\n",
       "      <td>1.75</td>\n",
       "      <td>15</td>\n",
       "      <td>9</td>\n",
       "    </tr>\n",
       "    <tr>\n",
       "      <th>5</th>\n",
       "      <td>60</td>\n",
       "      <td>1.70</td>\n",
       "      <td>14</td>\n",
       "      <td>10</td>\n",
       "    </tr>\n",
       "    <tr>\n",
       "      <th>6</th>\n",
       "      <td>60</td>\n",
       "      <td>1.70</td>\n",
       "      <td>14</td>\n",
       "      <td>7</td>\n",
       "    </tr>\n",
       "    <tr>\n",
       "      <th>7</th>\n",
       "      <td>70</td>\n",
       "      <td>1.60</td>\n",
       "      <td>14</td>\n",
       "      <td>8</td>\n",
       "    </tr>\n",
       "    <tr>\n",
       "      <th>8</th>\n",
       "      <td>65</td>\n",
       "      <td>1.60</td>\n",
       "      <td>13</td>\n",
       "      <td>13</td>\n",
       "    </tr>\n",
       "    <tr>\n",
       "      <th>9</th>\n",
       "      <td>60</td>\n",
       "      <td>1.55</td>\n",
       "      <td>15</td>\n",
       "      <td>17</td>\n",
       "    </tr>\n",
       "    <tr>\n",
       "      <th>10</th>\n",
       "      <td>65</td>\n",
       "      <td>1.70</td>\n",
       "      <td>14</td>\n",
       "      <td>11</td>\n",
       "    </tr>\n",
       "  </tbody>\n",
       "</table>\n",
       "</div>"
      ],
      "text/plain": [
       "       Poids  Taille  Age  Note\n",
       "eleve                          \n",
       "1         45    1.50   13    14\n",
       "2         50    1.60   13    16\n",
       "3         50    1.65   13    15\n",
       "4         60    1.75   15     9\n",
       "5         60    1.70   14    10\n",
       "6         60    1.70   14     7\n",
       "7         70    1.60   14     8\n",
       "8         65    1.60   13    13\n",
       "9         60    1.55   15    17\n",
       "10        65    1.70   14    11"
      ]
     },
     "execution_count": 5,
     "metadata": {},
     "output_type": "execute_result"
    }
   ],
   "source": [
    "data=pd.read_excel('example_1.xlsx',index_col='eleve')\n",
    "data ## assuer que les donnes buen charger"
   ]
  },
  {
   "cell_type": "markdown",
   "id": "0c14bfb1-7219-494c-ade4-df824a067969",
   "metadata": {},
   "source": [
    "### Etape 1: Centrer et réduire les données"
   ]
  },
  {
   "cell_type": "code",
   "execution_count": 43,
   "id": "3bb75038-2072-48f6-89f0-b8bff23abc95",
   "metadata": {},
   "outputs": [
    {
     "name": "stdout",
     "output_type": "stream",
     "text": [
      "                Poids   Taille        Age       Note\n",
      "moyenne     58.500000  1.63500  13.800000  12.000000\n",
      "écart-type   7.433034  0.07433   0.748331   3.316625\n",
      "\n",
      "Notre nouvelle matrice de données centrées réduites est la suivante:\n"
     ]
    },
    {
     "data": {
      "text/html": [
       "<div>\n",
       "<style scoped>\n",
       "    .dataframe tbody tr th:only-of-type {\n",
       "        vertical-align: middle;\n",
       "    }\n",
       "\n",
       "    .dataframe tbody tr th {\n",
       "        vertical-align: top;\n",
       "    }\n",
       "\n",
       "    .dataframe thead th {\n",
       "        text-align: right;\n",
       "    }\n",
       "</style>\n",
       "<table border=\"1\" class=\"dataframe\">\n",
       "  <thead>\n",
       "    <tr style=\"text-align: right;\">\n",
       "      <th></th>\n",
       "      <th>Poids</th>\n",
       "      <th>Taille</th>\n",
       "      <th>Age</th>\n",
       "      <th>Note</th>\n",
       "    </tr>\n",
       "    <tr>\n",
       "      <th>eleve</th>\n",
       "      <th></th>\n",
       "      <th></th>\n",
       "      <th></th>\n",
       "      <th></th>\n",
       "    </tr>\n",
       "  </thead>\n",
       "  <tbody>\n",
       "    <tr>\n",
       "      <th>1</th>\n",
       "      <td>-1.816217</td>\n",
       "      <td>-1.816217</td>\n",
       "      <td>-1.069045</td>\n",
       "      <td>0.603023</td>\n",
       "    </tr>\n",
       "    <tr>\n",
       "      <th>2</th>\n",
       "      <td>-1.143544</td>\n",
       "      <td>-0.470871</td>\n",
       "      <td>-1.069045</td>\n",
       "      <td>1.206045</td>\n",
       "    </tr>\n",
       "    <tr>\n",
       "      <th>3</th>\n",
       "      <td>-1.143544</td>\n",
       "      <td>0.201802</td>\n",
       "      <td>-1.069045</td>\n",
       "      <td>0.904534</td>\n",
       "    </tr>\n",
       "    <tr>\n",
       "      <th>4</th>\n",
       "      <td>0.201802</td>\n",
       "      <td>1.547147</td>\n",
       "      <td>1.603567</td>\n",
       "      <td>-0.904534</td>\n",
       "    </tr>\n",
       "    <tr>\n",
       "      <th>5</th>\n",
       "      <td>0.201802</td>\n",
       "      <td>0.874475</td>\n",
       "      <td>0.267261</td>\n",
       "      <td>-0.603023</td>\n",
       "    </tr>\n",
       "    <tr>\n",
       "      <th>6</th>\n",
       "      <td>0.201802</td>\n",
       "      <td>0.874475</td>\n",
       "      <td>0.267261</td>\n",
       "      <td>-1.507557</td>\n",
       "    </tr>\n",
       "    <tr>\n",
       "      <th>7</th>\n",
       "      <td>1.547147</td>\n",
       "      <td>-0.470871</td>\n",
       "      <td>0.267261</td>\n",
       "      <td>-1.206045</td>\n",
       "    </tr>\n",
       "    <tr>\n",
       "      <th>8</th>\n",
       "      <td>0.874475</td>\n",
       "      <td>-0.470871</td>\n",
       "      <td>-1.069045</td>\n",
       "      <td>0.301511</td>\n",
       "    </tr>\n",
       "    <tr>\n",
       "      <th>9</th>\n",
       "      <td>0.201802</td>\n",
       "      <td>-1.143544</td>\n",
       "      <td>1.603567</td>\n",
       "      <td>1.507557</td>\n",
       "    </tr>\n",
       "    <tr>\n",
       "      <th>10</th>\n",
       "      <td>0.874475</td>\n",
       "      <td>0.874475</td>\n",
       "      <td>0.267261</td>\n",
       "      <td>-0.301511</td>\n",
       "    </tr>\n",
       "  </tbody>\n",
       "</table>\n",
       "</div>"
      ],
      "text/plain": [
       "          Poids    Taille       Age      Note\n",
       "eleve                                        \n",
       "1     -1.816217 -1.816217 -1.069045  0.603023\n",
       "2     -1.143544 -0.470871 -1.069045  1.206045\n",
       "3     -1.143544  0.201802 -1.069045  0.904534\n",
       "4      0.201802  1.547147  1.603567 -0.904534\n",
       "5      0.201802  0.874475  0.267261 -0.603023\n",
       "6      0.201802  0.874475  0.267261 -1.507557\n",
       "7      1.547147 -0.470871  0.267261 -1.206045\n",
       "8      0.874475 -0.470871 -1.069045  0.301511\n",
       "9      0.201802 -1.143544  1.603567  1.507557\n",
       "10     0.874475  0.874475  0.267261 -0.301511"
      ]
     },
     "execution_count": 43,
     "metadata": {},
     "output_type": "execute_result"
    }
   ],
   "source": [
    "means = np.mean(data, axis=0)\n",
    "ecart_types = np.std(data, axis=0)\n",
    "\n",
    "df_standardized = (data - means) / ecart_types\n",
    "print(pd.DataFrame({'moyenne':means,'écart-type':ecart_types}).T)\n",
    "##Notre nouvelle matrice de données centrées réduites est la suivante:\n",
    "print('\\nNotre nouvelle matrice de données centrées réduites est la suivante:')\n",
    "df_standardized"
   ]
  },
  {
   "cell_type": "markdown",
   "id": "f28eb823-ecd7-40e7-8251-20ca7dc3f3a7",
   "metadata": {},
   "source": [
    "### Etape 2: La matrice de corrélation des variables, est la suivante:"
   ]
  },
  {
   "cell_type": "code",
   "execution_count": 44,
   "id": "a48abec1-e910-4556-9aea-4169d31eb071",
   "metadata": {},
   "outputs": [
    {
     "data": {
      "text/plain": [
       "array([[-1.81621654, -1.81621654, -1.06904497,  0.60302269],\n",
       "       [-1.14354375, -0.47087096, -1.06904497,  1.20604538],\n",
       "       [-1.14354375,  0.20180184, -1.06904497,  0.90453403],\n",
       "       [ 0.20180184,  1.54714743,  1.60356745, -0.90453403],\n",
       "       [ 0.20180184,  0.87447463,  0.26726124, -0.60302269],\n",
       "       [ 0.20180184,  0.87447463,  0.26726124, -1.50755672],\n",
       "       [ 1.54714743, -0.47087096,  0.26726124, -1.20604538],\n",
       "       [ 0.87447463, -0.47087096, -1.06904497,  0.30151134],\n",
       "       [ 0.20180184, -1.14354375,  1.60356745,  1.50755672],\n",
       "       [ 0.87447463,  0.87447463,  0.26726124, -0.30151134]])"
      ]
     },
     "execution_count": 44,
     "metadata": {},
     "output_type": "execute_result"
    }
   ],
   "source": [
    "Xtelda=df_standardized.values #ectract les values de data fran dans une matrix\n",
    "Xtelda"
   ]
  },
  {
   "cell_type": "code",
   "execution_count": 8,
   "id": "c1af423c-d429-4197-9f2b-1175d2b71908",
   "metadata": {},
   "outputs": [],
   "source": [
    "nomber_observation=Xtelda.shape[0] ## le nomber des obsirvation est lenomber des lines de cette matrixe ===> 10 = Xtelda.shape[0] "
   ]
  },
  {
   "cell_type": "code",
   "execution_count": 9,
   "id": "efdf4243-ac16-446e-af28-1f4dc21d814f",
   "metadata": {},
   "outputs": [
    {
     "data": {
      "text/plain": [
       "array([[ 1.        ,  0.36651584,  0.48540429, -0.56789174],\n",
       "       [ 0.36651584,  1.        ,  0.39551461, -0.62873728],\n",
       "       [ 0.48540429,  0.39551461,  1.        , -0.32232919],\n",
       "       [-0.56789174, -0.62873728, -0.32232919,  1.        ]])"
      ]
     },
     "execution_count": 9,
     "metadata": {},
     "output_type": "execute_result"
    }
   ],
   "source": [
    "R=(1/nomber_observation)*(Xtelda.T@Xtelda) ## @ <===> dot operation ==> produit matrixale\n",
    "R"
   ]
  },
  {
   "cell_type": "markdown",
   "id": "1af0e345-d288-44b1-aa87-a3e613c6878c",
   "metadata": {},
   "source": [
    "### Etape 3: obtient les valeurs propres λi et les vecteurs propres ~ui"
   ]
  },
  {
   "cell_type": "code",
   "execution_count": 45,
   "id": "d1c6b828-4ac4-449a-ada2-6f73abfe1e61",
   "metadata": {},
   "outputs": [
    {
     "name": "stdout",
     "output_type": "stream",
     "text": [
      "[[-0.50797301 -0.46187209 -0.65930066  0.30652934]\n",
      " [-0.50383507 -0.5041931   0.52534767 -0.46470353]\n",
      " [-0.44530321  0.28548823  0.47123808  0.70578764]\n",
      " [ 0.53834812 -0.67153553  0.25935907  0.43812579]]\n"
     ]
    },
    {
     "data": {
      "text/plain": [
       "array([2.39089885, 0.27438366, 0.58440607, 0.75031143])"
      ]
     },
     "execution_count": 45,
     "metadata": {},
     "output_type": "execute_result"
    }
   ],
   "source": [
    "valeurs_propres, vecteur_propres = np.linalg.eig(R)\n",
    "print(vecteur_propres)\n",
    "valeurs_propres"
   ]
  },
  {
   "cell_type": "code",
   "execution_count": 11,
   "id": "07456991-cf8d-4cb9-b8a5-7fb6b90ef167",
   "metadata": {},
   "outputs": [
    {
     "data": {
      "text/plain": [
       "array([2.39089885, 0.75031143, 0.58440607, 0.27438366])"
      ]
     },
     "execution_count": 11,
     "metadata": {},
     "output_type": "execute_result"
    }
   ],
   "source": [
    "valeurs_propres.sort()\n",
    "valeurs_propres_ordonnes=valeurs_propres[::-1]\n",
    "valeurs_propres_ordonnes"
   ]
  },
  {
   "cell_type": "code",
   "execution_count": 46,
   "id": "e99ec4a5-d880-40bb-bd47-969248f999a7",
   "metadata": {},
   "outputs": [
    {
     "data": {
      "text/plain": [
       "array([59.77247117, 18.75778578, 14.61015165,  6.8595914 ])"
      ]
     },
     "execution_count": 46,
     "metadata": {},
     "output_type": "execute_result"
    }
   ],
   "source": [
    "## % d’inertie\n",
    "(valeurs_propres_ordonnes/sum(valeurs_propres))* 100"
   ]
  },
  {
   "cell_type": "code",
   "execution_count": 64,
   "id": "5421404a-6fd5-4fa3-97cc-4944cd1c2e88",
   "metadata": {},
   "outputs": [],
   "source": [
    "valuer_vecteur_pro={}\n",
    "for i in range(vecteur_propres.shape[0]):\n",
    "   valuer_vecteur_pro[valeurs_propres[i]]=[v[i] for v in vecteur_propres]"
   ]
  },
  {
   "cell_type": "code",
   "execution_count": 65,
   "id": "6a432ad2-9db2-4a2d-a8f8-021dabfdd682",
   "metadata": {},
   "outputs": [
    {
     "data": {
      "text/html": [
       "<div>\n",
       "<style scoped>\n",
       "    .dataframe tbody tr th:only-of-type {\n",
       "        vertical-align: middle;\n",
       "    }\n",
       "\n",
       "    .dataframe tbody tr th {\n",
       "        vertical-align: top;\n",
       "    }\n",
       "\n",
       "    .dataframe thead th {\n",
       "        text-align: right;\n",
       "    }\n",
       "</style>\n",
       "<table border=\"1\" class=\"dataframe\">\n",
       "  <thead>\n",
       "    <tr style=\"text-align: right;\">\n",
       "      <th></th>\n",
       "      <th>2.390899</th>\n",
       "      <th>0.274384</th>\n",
       "      <th>0.584406</th>\n",
       "      <th>0.750311</th>\n",
       "    </tr>\n",
       "  </thead>\n",
       "  <tbody>\n",
       "    <tr>\n",
       "      <th>0</th>\n",
       "      <td>-0.507973</td>\n",
       "      <td>-0.461872</td>\n",
       "      <td>-0.659301</td>\n",
       "      <td>0.306529</td>\n",
       "    </tr>\n",
       "    <tr>\n",
       "      <th>1</th>\n",
       "      <td>-0.503835</td>\n",
       "      <td>-0.504193</td>\n",
       "      <td>0.525348</td>\n",
       "      <td>-0.464704</td>\n",
       "    </tr>\n",
       "    <tr>\n",
       "      <th>2</th>\n",
       "      <td>-0.445303</td>\n",
       "      <td>0.285488</td>\n",
       "      <td>0.471238</td>\n",
       "      <td>0.705788</td>\n",
       "    </tr>\n",
       "    <tr>\n",
       "      <th>3</th>\n",
       "      <td>0.538348</td>\n",
       "      <td>-0.671536</td>\n",
       "      <td>0.259359</td>\n",
       "      <td>0.438126</td>\n",
       "    </tr>\n",
       "  </tbody>\n",
       "</table>\n",
       "</div>"
      ],
      "text/plain": [
       "   2.390899  0.274384  0.584406  0.750311\n",
       "0 -0.507973 -0.461872 -0.659301  0.306529\n",
       "1 -0.503835 -0.504193  0.525348 -0.464704\n",
       "2 -0.445303  0.285488  0.471238  0.705788\n",
       "3  0.538348 -0.671536  0.259359  0.438126"
      ]
     },
     "execution_count": 65,
     "metadata": {},
     "output_type": "execute_result"
    }
   ],
   "source": [
    "df_temp=pd.DataFrame(valuer_vecteur_pro)\n",
    "df_temp"
   ]
  },
  {
   "cell_type": "markdown",
   "id": "ea0ef884-b961-4c4c-9d4e-d813671fa059",
   "metadata": {},
   "source": [
    "![](images/2.png)"
   ]
  },
  {
   "cell_type": "markdown",
   "id": "a69b5af5-7cb2-4c54-aaa2-5cc84a3ffdb7",
   "metadata": {},
   "source": [
    "On va faire une tri (Sorting) <<grand lambda value ===> petite"
   ]
  },
  {
   "cell_type": "code",
   "execution_count": 66,
   "id": "a7c10f17-7378-48e0-8f1b-fbd04aff8011",
   "metadata": {},
   "outputs": [],
   "source": [
    "valuer_vecteur_pro_2={value: df_temp[value] for value in valeurs_propres_ordonnes}"
   ]
  },
  {
   "cell_type": "code",
   "execution_count": 67,
   "id": "5cae2352-a0e7-4044-b16d-fd1ae43cc430",
   "metadata": {},
   "outputs": [
    {
     "data": {
      "text/html": [
       "<div>\n",
       "<style scoped>\n",
       "    .dataframe tbody tr th:only-of-type {\n",
       "        vertical-align: middle;\n",
       "    }\n",
       "\n",
       "    .dataframe tbody tr th {\n",
       "        vertical-align: top;\n",
       "    }\n",
       "\n",
       "    .dataframe thead th {\n",
       "        text-align: right;\n",
       "    }\n",
       "</style>\n",
       "<table border=\"1\" class=\"dataframe\">\n",
       "  <thead>\n",
       "    <tr style=\"text-align: right;\">\n",
       "      <th></th>\n",
       "      <th>2.390899</th>\n",
       "      <th>0.750311</th>\n",
       "      <th>0.584406</th>\n",
       "      <th>0.274384</th>\n",
       "    </tr>\n",
       "  </thead>\n",
       "  <tbody>\n",
       "    <tr>\n",
       "      <th>0</th>\n",
       "      <td>-0.507973</td>\n",
       "      <td>0.306529</td>\n",
       "      <td>-0.659301</td>\n",
       "      <td>-0.461872</td>\n",
       "    </tr>\n",
       "    <tr>\n",
       "      <th>1</th>\n",
       "      <td>-0.503835</td>\n",
       "      <td>-0.464704</td>\n",
       "      <td>0.525348</td>\n",
       "      <td>-0.504193</td>\n",
       "    </tr>\n",
       "    <tr>\n",
       "      <th>2</th>\n",
       "      <td>-0.445303</td>\n",
       "      <td>0.705788</td>\n",
       "      <td>0.471238</td>\n",
       "      <td>0.285488</td>\n",
       "    </tr>\n",
       "    <tr>\n",
       "      <th>3</th>\n",
       "      <td>0.538348</td>\n",
       "      <td>0.438126</td>\n",
       "      <td>0.259359</td>\n",
       "      <td>-0.671536</td>\n",
       "    </tr>\n",
       "  </tbody>\n",
       "</table>\n",
       "</div>"
      ],
      "text/plain": [
       "   2.390899  0.750311  0.584406  0.274384\n",
       "0 -0.507973  0.306529 -0.659301 -0.461872\n",
       "1 -0.503835 -0.464704  0.525348 -0.504193\n",
       "2 -0.445303  0.705788  0.471238  0.285488\n",
       "3  0.538348  0.438126  0.259359 -0.671536"
      ]
     },
     "execution_count": 67,
     "metadata": {},
     "output_type": "execute_result"
    }
   ],
   "source": [
    "valuer_vecteur_pro_f=pd.DataFrame(valuer_vecteur_pro_2) \n",
    "valuer_vecteur_pro_f\n",
    "## Now it loock the same soft :) les valuers de 3 eme et 4 eme vecteur prorpe need -1 "
   ]
  },
  {
   "cell_type": "code",
   "execution_count": 68,
   "id": "26097260-aa22-42cd-a265-467f773fa37e",
   "metadata": {},
   "outputs": [
    {
     "data": {
      "text/html": [
       "<div>\n",
       "<style scoped>\n",
       "    .dataframe tbody tr th:only-of-type {\n",
       "        vertical-align: middle;\n",
       "    }\n",
       "\n",
       "    .dataframe tbody tr th {\n",
       "        vertical-align: top;\n",
       "    }\n",
       "\n",
       "    .dataframe thead th {\n",
       "        text-align: right;\n",
       "    }\n",
       "</style>\n",
       "<table border=\"1\" class=\"dataframe\">\n",
       "  <thead>\n",
       "    <tr style=\"text-align: right;\">\n",
       "      <th></th>\n",
       "      <th>2.390899</th>\n",
       "      <th>0.750311</th>\n",
       "      <th>0.584406</th>\n",
       "      <th>0.274384</th>\n",
       "    </tr>\n",
       "  </thead>\n",
       "  <tbody>\n",
       "    <tr>\n",
       "      <th>0</th>\n",
       "      <td>-0.507973</td>\n",
       "      <td>0.306529</td>\n",
       "      <td>0.659301</td>\n",
       "      <td>0.461872</td>\n",
       "    </tr>\n",
       "    <tr>\n",
       "      <th>1</th>\n",
       "      <td>-0.503835</td>\n",
       "      <td>-0.464704</td>\n",
       "      <td>-0.525348</td>\n",
       "      <td>0.504193</td>\n",
       "    </tr>\n",
       "    <tr>\n",
       "      <th>2</th>\n",
       "      <td>-0.445303</td>\n",
       "      <td>0.705788</td>\n",
       "      <td>-0.471238</td>\n",
       "      <td>-0.285488</td>\n",
       "    </tr>\n",
       "    <tr>\n",
       "      <th>3</th>\n",
       "      <td>0.538348</td>\n",
       "      <td>0.438126</td>\n",
       "      <td>-0.259359</td>\n",
       "      <td>0.671536</td>\n",
       "    </tr>\n",
       "  </tbody>\n",
       "</table>\n",
       "</div>"
      ],
      "text/plain": [
       "   2.390899  0.750311  0.584406  0.274384\n",
       "0 -0.507973  0.306529  0.659301  0.461872\n",
       "1 -0.503835 -0.464704 -0.525348  0.504193\n",
       "2 -0.445303  0.705788 -0.471238 -0.285488\n",
       "3  0.538348  0.438126 -0.259359  0.671536"
      ]
     },
     "execution_count": 68,
     "metadata": {},
     "output_type": "execute_result"
    }
   ],
   "source": [
    "valuer_vecteur_pro_f.iloc[:, 2]=valuer_vecteur_pro_f.iloc[:, 2]*-1\n",
    "valuer_vecteur_pro_f.iloc[:, 3]=valuer_vecteur_pro_f.iloc[:, 3]*-1\n",
    "valuer_vecteur_pro_f ## Now we in the same page whit HAFDI"
   ]
  },
  {
   "cell_type": "markdown",
   "id": "c5bd8208-9ad5-4225-bf28-db47a645fe02",
   "metadata": {},
   "source": [
    "### Etape 4: Les nouvelles coordonnées des individus dans la base des composantes"
   ]
  },
  {
   "cell_type": "code",
   "execution_count": 69,
   "id": "c8eccbfc-eeea-4e4c-8061-84bf804658f9",
   "metadata": {},
   "outputs": [
    {
     "data": {
      "text/html": [
       "<div>\n",
       "<style scoped>\n",
       "    .dataframe tbody tr th:only-of-type {\n",
       "        vertical-align: middle;\n",
       "    }\n",
       "\n",
       "    .dataframe tbody tr th {\n",
       "        vertical-align: top;\n",
       "    }\n",
       "\n",
       "    .dataframe thead th {\n",
       "        text-align: right;\n",
       "    }\n",
       "</style>\n",
       "<table border=\"1\" class=\"dataframe\">\n",
       "  <thead>\n",
       "    <tr style=\"text-align: right;\">\n",
       "      <th></th>\n",
       "      <th>C1</th>\n",
       "      <th>C2</th>\n",
       "      <th>C3</th>\n",
       "      <th>C4</th>\n",
       "    </tr>\n",
       "    <tr>\n",
       "      <th>eleve</th>\n",
       "      <th></th>\n",
       "      <th></th>\n",
       "      <th></th>\n",
       "      <th></th>\n",
       "    </tr>\n",
       "  </thead>\n",
       "  <tbody>\n",
       "    <tr>\n",
       "      <th>1</th>\n",
       "      <td>2.638348</td>\n",
       "      <td>-0.203040</td>\n",
       "      <td>0.104088</td>\n",
       "      <td>-1.044433</td>\n",
       "    </tr>\n",
       "    <tr>\n",
       "      <th>2</th>\n",
       "      <td>1.943452</td>\n",
       "      <td>-0.357833</td>\n",
       "      <td>-0.315592</td>\n",
       "      <td>0.349521</td>\n",
       "    </tr>\n",
       "    <tr>\n",
       "      <th>3</th>\n",
       "      <td>1.442218</td>\n",
       "      <td>-0.802527</td>\n",
       "      <td>-0.590780</td>\n",
       "      <td>0.486203</td>\n",
       "    </tr>\n",
       "    <tr>\n",
       "      <th>4</th>\n",
       "      <td>-2.083045</td>\n",
       "      <td>0.078372</td>\n",
       "      <td>-1.200805</td>\n",
       "      <td>-0.191959</td>\n",
       "    </tr>\n",
       "    <tr>\n",
       "      <th>5</th>\n",
       "      <td>-0.986749</td>\n",
       "      <td>-0.420083</td>\n",
       "      <td>-0.295899</td>\n",
       "      <td>0.052860</td>\n",
       "    </tr>\n",
       "    <tr>\n",
       "      <th>6</th>\n",
       "      <td>-1.473703</td>\n",
       "      <td>-0.816383</td>\n",
       "      <td>-0.061300</td>\n",
       "      <td>-0.554567</td>\n",
       "    </tr>\n",
       "    <tr>\n",
       "      <th>7</th>\n",
       "      <td>-1.316952</td>\n",
       "      <td>0.353292</td>\n",
       "      <td>1.454261</td>\n",
       "      <td>-0.409028</td>\n",
       "    </tr>\n",
       "    <tr>\n",
       "      <th>8</th>\n",
       "      <td>0.431399</td>\n",
       "      <td>-0.135551</td>\n",
       "      <td>1.249488</td>\n",
       "      <td>0.674161</td>\n",
       "    </tr>\n",
       "    <tr>\n",
       "      <th>9</th>\n",
       "      <td>0.571164</td>\n",
       "      <td>2.385545</td>\n",
       "      <td>-0.412854</td>\n",
       "      <td>0.071218</td>\n",
       "    </tr>\n",
       "    <tr>\n",
       "      <th>10</th>\n",
       "      <td>-1.166131</td>\n",
       "      <td>-0.081790</td>\n",
       "      <td>0.069395</td>\n",
       "      <td>0.566024</td>\n",
       "    </tr>\n",
       "  </tbody>\n",
       "</table>\n",
       "</div>"
      ],
      "text/plain": [
       "             C1        C2        C3        C4\n",
       "eleve                                        \n",
       "1      2.638348 -0.203040  0.104088 -1.044433\n",
       "2      1.943452 -0.357833 -0.315592  0.349521\n",
       "3      1.442218 -0.802527 -0.590780  0.486203\n",
       "4     -2.083045  0.078372 -1.200805 -0.191959\n",
       "5     -0.986749 -0.420083 -0.295899  0.052860\n",
       "6     -1.473703 -0.816383 -0.061300 -0.554567\n",
       "7     -1.316952  0.353292  1.454261 -0.409028\n",
       "8      0.431399 -0.135551  1.249488  0.674161\n",
       "9      0.571164  2.385545 -0.412854  0.071218\n",
       "10    -1.166131 -0.081790  0.069395  0.566024"
      ]
     },
     "execution_count": 69,
     "metadata": {},
     "output_type": "execute_result"
    }
   ],
   "source": [
    "coordonnees_des_individus=Xtelda@valuer_vecteur_pro_f.values\n",
    "coordonnees_des_individus_df=pd.DataFrame(\n",
    "            coordonnees_des_individus,\n",
    "            index=data.index,columns=['C1','C2','C3','C4']\n",
    ")\n",
    "coordonnees_des_individus_df"
   ]
  },
  {
   "cell_type": "code",
   "execution_count": 70,
   "id": "b49616bf-e167-4cee-8ebc-e5e930c3b68d",
   "metadata": {},
   "outputs": [
    {
     "data": {
      "text/plain": [
       "array([[-0.50797301,  0.30652934,  0.65930066,  0.46187209],\n",
       "       [-0.50383507, -0.46470353, -0.52534767,  0.5041931 ],\n",
       "       [-0.44530321,  0.70578764, -0.47123808, -0.28548823],\n",
       "       [ 0.53834812,  0.43812579, -0.25935907,  0.67153553]])"
      ]
     },
     "execution_count": 70,
     "metadata": {},
     "output_type": "execute_result"
    }
   ],
   "source": [
    "valuer_vecteur_pro_f.values"
   ]
  },
  {
   "cell_type": "markdown",
   "id": "31e68204-46c5-466b-b6ca-8e961a7fc8d4",
   "metadata": {},
   "source": [
    "### Etape 5: Les nouvelles coordonnées des variables dans la base des composantes"
   ]
  },
  {
   "cell_type": "code",
   "execution_count": 71,
   "id": "bacaab1d-4e82-44f8-98ad-51408b828936",
   "metadata": {},
   "outputs": [
    {
     "data": {
      "text/html": [
       "<div>\n",
       "<style scoped>\n",
       "    .dataframe tbody tr th:only-of-type {\n",
       "        vertical-align: middle;\n",
       "    }\n",
       "\n",
       "    .dataframe tbody tr th {\n",
       "        vertical-align: top;\n",
       "    }\n",
       "\n",
       "    .dataframe thead th {\n",
       "        text-align: right;\n",
       "    }\n",
       "</style>\n",
       "<table border=\"1\" class=\"dataframe\">\n",
       "  <thead>\n",
       "    <tr style=\"text-align: right;\">\n",
       "      <th></th>\n",
       "      <th>C1</th>\n",
       "      <th>C2</th>\n",
       "      <th>C3</th>\n",
       "      <th>C4</th>\n",
       "    </tr>\n",
       "  </thead>\n",
       "  <tbody>\n",
       "    <tr>\n",
       "      <th>Poids</th>\n",
       "      <td>-0.785455</td>\n",
       "      <td>0.265517</td>\n",
       "      <td>0.504012</td>\n",
       "      <td>0.241936</td>\n",
       "    </tr>\n",
       "    <tr>\n",
       "      <th>Taille</th>\n",
       "      <td>-0.779057</td>\n",
       "      <td>-0.402529</td>\n",
       "      <td>-0.401610</td>\n",
       "      <td>0.264105</td>\n",
       "    </tr>\n",
       "    <tr>\n",
       "      <th>Age</th>\n",
       "      <td>-0.688551</td>\n",
       "      <td>0.611357</td>\n",
       "      <td>-0.360245</td>\n",
       "      <td>-0.149543</td>\n",
       "    </tr>\n",
       "    <tr>\n",
       "      <th>Note</th>\n",
       "      <td>0.832422</td>\n",
       "      <td>0.379507</td>\n",
       "      <td>-0.198271</td>\n",
       "      <td>0.351761</td>\n",
       "    </tr>\n",
       "  </tbody>\n",
       "</table>\n",
       "</div>"
      ],
      "text/plain": [
       "              C1        C2        C3        C4\n",
       "Poids  -0.785455  0.265517  0.504012  0.241936\n",
       "Taille -0.779057 -0.402529 -0.401610  0.264105\n",
       "Age    -0.688551  0.611357 -0.360245 -0.149543\n",
       "Note    0.832422  0.379507 -0.198271  0.351761"
      ]
     },
     "execution_count": 71,
     "metadata": {},
     "output_type": "execute_result"
    }
   ],
   "source": [
    "coordonnees_des_variables=pd.DataFrame({\n",
    "    'C1':np.sqrt(valuer_vecteur_pro_f.columns[0])*valuer_vecteur_pro_f.iloc[:, 0].values,\n",
    "    'C2':np.sqrt(valuer_vecteur_pro_f.columns[1])*valuer_vecteur_pro_f.iloc[:, 1].values,\n",
    "    'C3':np.sqrt(valuer_vecteur_pro_f.columns[2])*valuer_vecteur_pro_f.iloc[:, 2].values,\n",
    "    'C4':np.sqrt(valuer_vecteur_pro_f.columns[3])*valuer_vecteur_pro_f.iloc[:, 3].values},\n",
    "    index=data.columns)\n",
    "coordonnees_des_variables"
   ]
  },
  {
   "cell_type": "markdown",
   "id": "efb58f41-c84d-49fa-bdf8-c361bcea3cb0",
   "metadata": {},
   "source": [
    "### Etape 6: Choix du nombre d’axe principal à retenir:"
   ]
  },
  {
   "cell_type": "markdown",
   "id": "65e88d11-d502-4246-984c-85ce57ae5c23",
   "metadata": {},
   "source": [
    "### Etape 7:"
   ]
  },
  {
   "cell_type": "code",
   "execution_count": 72,
   "id": "90b30266-a13e-44ca-9941-cc4795eea537",
   "metadata": {},
   "outputs": [
    {
     "data": {
      "text/plain": [
       "array([[6.96087937e+00, 4.12253855e-02, 1.08342415e-02, 1.09083957e+00],\n",
       "       [3.77700598e+00, 1.28044782e-01, 9.95984970e-02, 1.22165105e-01],\n",
       "       [2.07999238e+00, 6.44049218e-01, 3.49020631e-01, 2.36393020e-01],\n",
       "       [4.33907623e+00, 6.14212589e-03, 1.44193304e+00, 3.68481361e-02],\n",
       "       [9.73674167e-01, 1.76470040e-01, 8.75564543e-02, 2.79413871e-03],\n",
       "       [2.17180199e+00, 6.66481299e-01, 3.75772595e-03, 3.07544696e-01],\n",
       "       [1.73436359e+00, 1.24814933e-01, 2.11487626e+00, 1.67303851e-01],\n",
       "       [1.86105105e-01, 1.83741557e-02, 1.56121943e+00, 4.54492884e-01],\n",
       "       [3.26228498e-01, 5.69082285e+00, 1.70448782e-01, 5.07200735e-03],\n",
       "       [1.35986116e+00, 6.68952719e-03, 4.81559911e-03, 3.20383145e-01]])"
      ]
     },
     "execution_count": 72,
     "metadata": {},
     "output_type": "execute_result"
    }
   ],
   "source": [
    "coordonnees_des_individus_square=coordonnees_des_individus**2\n",
    "coordonnees_des_individus_square"
   ]
  },
  {
   "cell_type": "code",
   "execution_count": 73,
   "id": "3ea79b9b-0015-4c37-a58f-c838185ffa1d",
   "metadata": {},
   "outputs": [
    {
     "data": {
      "text/plain": [
       "[array([0.85896712, 0.00508718, 0.00133694, 0.13460876]),\n",
       " array([0.91523525, 0.03102751, 0.02413447, 0.02960276]),\n",
       " array([0.62849993, 0.19460883, 0.10546166, 0.07142959]),\n",
       " array([0.74503375, 0.00105462, 0.24758468, 0.00632695]),\n",
       " array([0.7849079 , 0.14225778, 0.07058188, 0.00225244]),\n",
       " array([0.68955164, 0.2116092 , 0.00119309, 0.09764608]),\n",
       " array([0.41879097, 0.03013864, 0.51067209, 0.0403983 ]),\n",
       " array([0.08382389, 0.00827593, 0.70319131, 0.20470886]),\n",
       " array([5.26806133e-02, 9.18975625e-01, 2.75247148e-02, 8.19046955e-04]),\n",
       " array([0.80381949, 0.00395421, 0.00284652, 0.18937979])]"
      ]
     },
     "execution_count": 73,
     "metadata": {},
     "output_type": "execute_result"
    }
   ],
   "source": [
    "#qualité de représentation des individus\n",
    "qualite_individus=[]\n",
    "for index in range(coordonnees_des_individus.shape[0]):\n",
    "    qualite_individus.append(coordonnees_des_individus_square[index]/sum(coordonnees_des_individus_square[index]))\n",
    "qualite_individus"
   ]
  },
  {
   "cell_type": "code",
   "execution_count": 74,
   "id": "b58f1bbd-30cb-4338-a52e-a35ab2801aca",
   "metadata": {},
   "outputs": [
    {
     "data": {
      "text/html": [
       "<div>\n",
       "<style scoped>\n",
       "    .dataframe tbody tr th:only-of-type {\n",
       "        vertical-align: middle;\n",
       "    }\n",
       "\n",
       "    .dataframe tbody tr th {\n",
       "        vertical-align: top;\n",
       "    }\n",
       "\n",
       "    .dataframe thead th {\n",
       "        text-align: right;\n",
       "    }\n",
       "</style>\n",
       "<table border=\"1\" class=\"dataframe\">\n",
       "  <thead>\n",
       "    <tr style=\"text-align: right;\">\n",
       "      <th></th>\n",
       "      <th>axe1</th>\n",
       "      <th>axe2</th>\n",
       "      <th>axe3</th>\n",
       "      <th>axe4</th>\n",
       "    </tr>\n",
       "    <tr>\n",
       "      <th>eleve</th>\n",
       "      <th></th>\n",
       "      <th></th>\n",
       "      <th></th>\n",
       "      <th></th>\n",
       "    </tr>\n",
       "  </thead>\n",
       "  <tbody>\n",
       "    <tr>\n",
       "      <th>1</th>\n",
       "      <td>0.858967</td>\n",
       "      <td>0.005087</td>\n",
       "      <td>0.001337</td>\n",
       "      <td>0.134609</td>\n",
       "    </tr>\n",
       "    <tr>\n",
       "      <th>2</th>\n",
       "      <td>0.915235</td>\n",
       "      <td>0.031028</td>\n",
       "      <td>0.024134</td>\n",
       "      <td>0.029603</td>\n",
       "    </tr>\n",
       "    <tr>\n",
       "      <th>3</th>\n",
       "      <td>0.628500</td>\n",
       "      <td>0.194609</td>\n",
       "      <td>0.105462</td>\n",
       "      <td>0.071430</td>\n",
       "    </tr>\n",
       "    <tr>\n",
       "      <th>4</th>\n",
       "      <td>0.745034</td>\n",
       "      <td>0.001055</td>\n",
       "      <td>0.247585</td>\n",
       "      <td>0.006327</td>\n",
       "    </tr>\n",
       "    <tr>\n",
       "      <th>5</th>\n",
       "      <td>0.784908</td>\n",
       "      <td>0.142258</td>\n",
       "      <td>0.070582</td>\n",
       "      <td>0.002252</td>\n",
       "    </tr>\n",
       "    <tr>\n",
       "      <th>6</th>\n",
       "      <td>0.689552</td>\n",
       "      <td>0.211609</td>\n",
       "      <td>0.001193</td>\n",
       "      <td>0.097646</td>\n",
       "    </tr>\n",
       "    <tr>\n",
       "      <th>7</th>\n",
       "      <td>0.418791</td>\n",
       "      <td>0.030139</td>\n",
       "      <td>0.510672</td>\n",
       "      <td>0.040398</td>\n",
       "    </tr>\n",
       "    <tr>\n",
       "      <th>8</th>\n",
       "      <td>0.083824</td>\n",
       "      <td>0.008276</td>\n",
       "      <td>0.703191</td>\n",
       "      <td>0.204709</td>\n",
       "    </tr>\n",
       "    <tr>\n",
       "      <th>9</th>\n",
       "      <td>0.052681</td>\n",
       "      <td>0.918976</td>\n",
       "      <td>0.027525</td>\n",
       "      <td>0.000819</td>\n",
       "    </tr>\n",
       "    <tr>\n",
       "      <th>10</th>\n",
       "      <td>0.803819</td>\n",
       "      <td>0.003954</td>\n",
       "      <td>0.002847</td>\n",
       "      <td>0.189380</td>\n",
       "    </tr>\n",
       "  </tbody>\n",
       "</table>\n",
       "</div>"
      ],
      "text/plain": [
       "           axe1      axe2      axe3      axe4\n",
       "eleve                                        \n",
       "1      0.858967  0.005087  0.001337  0.134609\n",
       "2      0.915235  0.031028  0.024134  0.029603\n",
       "3      0.628500  0.194609  0.105462  0.071430\n",
       "4      0.745034  0.001055  0.247585  0.006327\n",
       "5      0.784908  0.142258  0.070582  0.002252\n",
       "6      0.689552  0.211609  0.001193  0.097646\n",
       "7      0.418791  0.030139  0.510672  0.040398\n",
       "8      0.083824  0.008276  0.703191  0.204709\n",
       "9      0.052681  0.918976  0.027525  0.000819\n",
       "10     0.803819  0.003954  0.002847  0.189380"
      ]
     },
     "execution_count": 74,
     "metadata": {},
     "output_type": "execute_result"
    }
   ],
   "source": [
    "qualite_individus_df=pd.DataFrame(qualite_individus,columns=['axe1','axe2','axe3','axe4'],index=data.index)\n",
    "qualite_individus_df"
   ]
  },
  {
   "cell_type": "code",
   "execution_count": 75,
   "id": "096737b7-d60a-4b5f-a0e8-f4aebd5a31f0",
   "metadata": {},
   "outputs": [
    {
     "data": {
      "text/html": [
       "<div>\n",
       "<style scoped>\n",
       "    .dataframe tbody tr th:only-of-type {\n",
       "        vertical-align: middle;\n",
       "    }\n",
       "\n",
       "    .dataframe tbody tr th {\n",
       "        vertical-align: top;\n",
       "    }\n",
       "\n",
       "    .dataframe thead th {\n",
       "        text-align: right;\n",
       "    }\n",
       "</style>\n",
       "<table border=\"1\" class=\"dataframe\">\n",
       "  <thead>\n",
       "    <tr style=\"text-align: right;\">\n",
       "      <th></th>\n",
       "      <th>axe1</th>\n",
       "      <th>axe2</th>\n",
       "      <th>axe3</th>\n",
       "      <th>(axe1,axe2)</th>\n",
       "      <th>(axe1,axe3)</th>\n",
       "    </tr>\n",
       "    <tr>\n",
       "      <th>eleve</th>\n",
       "      <th></th>\n",
       "      <th></th>\n",
       "      <th></th>\n",
       "      <th></th>\n",
       "      <th></th>\n",
       "    </tr>\n",
       "  </thead>\n",
       "  <tbody>\n",
       "    <tr>\n",
       "      <th>1</th>\n",
       "      <td>0.858967</td>\n",
       "      <td>0.005087</td>\n",
       "      <td>0.001337</td>\n",
       "      <td>0.864054</td>\n",
       "      <td>0.860304</td>\n",
       "    </tr>\n",
       "    <tr>\n",
       "      <th>2</th>\n",
       "      <td>0.915235</td>\n",
       "      <td>0.031028</td>\n",
       "      <td>0.024134</td>\n",
       "      <td>0.946263</td>\n",
       "      <td>0.939370</td>\n",
       "    </tr>\n",
       "    <tr>\n",
       "      <th>3</th>\n",
       "      <td>0.628500</td>\n",
       "      <td>0.194609</td>\n",
       "      <td>0.105462</td>\n",
       "      <td>0.823109</td>\n",
       "      <td>0.733962</td>\n",
       "    </tr>\n",
       "    <tr>\n",
       "      <th>4</th>\n",
       "      <td>0.745034</td>\n",
       "      <td>0.001055</td>\n",
       "      <td>0.247585</td>\n",
       "      <td>0.746088</td>\n",
       "      <td>0.992618</td>\n",
       "    </tr>\n",
       "    <tr>\n",
       "      <th>5</th>\n",
       "      <td>0.784908</td>\n",
       "      <td>0.142258</td>\n",
       "      <td>0.070582</td>\n",
       "      <td>0.927166</td>\n",
       "      <td>0.855490</td>\n",
       "    </tr>\n",
       "    <tr>\n",
       "      <th>6</th>\n",
       "      <td>0.689552</td>\n",
       "      <td>0.211609</td>\n",
       "      <td>0.001193</td>\n",
       "      <td>0.901161</td>\n",
       "      <td>0.690745</td>\n",
       "    </tr>\n",
       "    <tr>\n",
       "      <th>7</th>\n",
       "      <td>0.418791</td>\n",
       "      <td>0.030139</td>\n",
       "      <td>0.510672</td>\n",
       "      <td>0.448930</td>\n",
       "      <td>0.929463</td>\n",
       "    </tr>\n",
       "    <tr>\n",
       "      <th>8</th>\n",
       "      <td>0.083824</td>\n",
       "      <td>0.008276</td>\n",
       "      <td>0.703191</td>\n",
       "      <td>0.092100</td>\n",
       "      <td>0.787015</td>\n",
       "    </tr>\n",
       "    <tr>\n",
       "      <th>9</th>\n",
       "      <td>0.052681</td>\n",
       "      <td>0.918976</td>\n",
       "      <td>0.027525</td>\n",
       "      <td>0.971656</td>\n",
       "      <td>0.080205</td>\n",
       "    </tr>\n",
       "    <tr>\n",
       "      <th>10</th>\n",
       "      <td>0.803819</td>\n",
       "      <td>0.003954</td>\n",
       "      <td>0.002847</td>\n",
       "      <td>0.807774</td>\n",
       "      <td>0.806666</td>\n",
       "    </tr>\n",
       "  </tbody>\n",
       "</table>\n",
       "</div>"
      ],
      "text/plain": [
       "           axe1      axe2      axe3  (axe1,axe2)  (axe1,axe3)\n",
       "eleve                                                        \n",
       "1      0.858967  0.005087  0.001337     0.864054     0.860304\n",
       "2      0.915235  0.031028  0.024134     0.946263     0.939370\n",
       "3      0.628500  0.194609  0.105462     0.823109     0.733962\n",
       "4      0.745034  0.001055  0.247585     0.746088     0.992618\n",
       "5      0.784908  0.142258  0.070582     0.927166     0.855490\n",
       "6      0.689552  0.211609  0.001193     0.901161     0.690745\n",
       "7      0.418791  0.030139  0.510672     0.448930     0.929463\n",
       "8      0.083824  0.008276  0.703191     0.092100     0.787015\n",
       "9      0.052681  0.918976  0.027525     0.971656     0.080205\n",
       "10     0.803819  0.003954  0.002847     0.807774     0.806666"
      ]
     },
     "execution_count": 75,
     "metadata": {},
     "output_type": "execute_result"
    }
   ],
   "source": [
    "# lest remove the last colum\n",
    "qualite_individus_df=qualite_individus_df.iloc[:,:3]\n",
    "## adding (axe1,axe2) , (axe1,axe3) collums ===>\n",
    "qualite_individus_df['(axe1,axe2)']=qualite_individus_df['axe1']+qualite_individus_df['axe2']\n",
    "qualite_individus_df['(axe1,axe3)']=qualite_individus_df['axe1']+qualite_individus_df['axe3']\n",
    "qualite_individus_df"
   ]
  },
  {
   "cell_type": "code",
   "execution_count": 76,
   "id": "953e9371-90a2-4ce3-b39e-cc524a02b3d6",
   "metadata": {},
   "outputs": [
    {
     "data": {
      "text/plain": [
       "Poids     1.0\n",
       "Taille    1.0\n",
       "Age       1.0\n",
       "Note      1.0\n",
       "dtype: float64"
      ]
     },
     "execution_count": 76,
     "metadata": {},
     "output_type": "execute_result"
    }
   ],
   "source": [
    "## la qualite des variable\n",
    "coordonnees_des_variables.apply(lambda x: x**2).sum(axis=1)"
   ]
  },
  {
   "cell_type": "code",
   "execution_count": 77,
   "id": "a557eea8-20cb-4f98-9bf9-b508aecc0eea",
   "metadata": {},
   "outputs": [
    {
     "data": {
      "text/html": [
       "<div>\n",
       "<style scoped>\n",
       "    .dataframe tbody tr th:only-of-type {\n",
       "        vertical-align: middle;\n",
       "    }\n",
       "\n",
       "    .dataframe tbody tr th {\n",
       "        vertical-align: top;\n",
       "    }\n",
       "\n",
       "    .dataframe thead th {\n",
       "        text-align: right;\n",
       "    }\n",
       "</style>\n",
       "<table border=\"1\" class=\"dataframe\">\n",
       "  <thead>\n",
       "    <tr style=\"text-align: right;\">\n",
       "      <th></th>\n",
       "      <th>axe1</th>\n",
       "      <th>axe2</th>\n",
       "      <th>axe3</th>\n",
       "      <th>axe4</th>\n",
       "    </tr>\n",
       "  </thead>\n",
       "  <tbody>\n",
       "    <tr>\n",
       "      <th>Poids</th>\n",
       "      <td>0.616939</td>\n",
       "      <td>0.070499</td>\n",
       "      <td>0.254028</td>\n",
       "      <td>0.058533</td>\n",
       "    </tr>\n",
       "    <tr>\n",
       "      <th>Taille</th>\n",
       "      <td>0.606929</td>\n",
       "      <td>0.162029</td>\n",
       "      <td>0.161290</td>\n",
       "      <td>0.069751</td>\n",
       "    </tr>\n",
       "    <tr>\n",
       "      <th>Age</th>\n",
       "      <td>0.474103</td>\n",
       "      <td>0.373757</td>\n",
       "      <td>0.129776</td>\n",
       "      <td>0.022363</td>\n",
       "    </tr>\n",
       "    <tr>\n",
       "      <th>Note</th>\n",
       "      <td>0.692927</td>\n",
       "      <td>0.144025</td>\n",
       "      <td>0.039311</td>\n",
       "      <td>0.123736</td>\n",
       "    </tr>\n",
       "  </tbody>\n",
       "</table>\n",
       "</div>"
      ],
      "text/plain": [
       "            axe1      axe2      axe3      axe4\n",
       "Poids   0.616939  0.070499  0.254028  0.058533\n",
       "Taille  0.606929  0.162029  0.161290  0.069751\n",
       "Age     0.474103  0.373757  0.129776  0.022363\n",
       "Note    0.692927  0.144025  0.039311  0.123736"
      ]
     },
     "execution_count": 77,
     "metadata": {},
     "output_type": "execute_result"
    }
   ],
   "source": [
    "qualite_variable=coordonnees_des_variables.apply(lambda x: x**2)\n",
    "qualite_variable.columns=['axe1','axe2','axe3','axe4']\n",
    "qualite_variable"
   ]
  },
  {
   "cell_type": "code",
   "execution_count": 78,
   "id": "000b8ebd-547e-46a4-a05a-4ccfc28b55cf",
   "metadata": {},
   "outputs": [
    {
     "data": {
      "text/html": [
       "<div>\n",
       "<style scoped>\n",
       "    .dataframe tbody tr th:only-of-type {\n",
       "        vertical-align: middle;\n",
       "    }\n",
       "\n",
       "    .dataframe tbody tr th {\n",
       "        vertical-align: top;\n",
       "    }\n",
       "\n",
       "    .dataframe thead th {\n",
       "        text-align: right;\n",
       "    }\n",
       "</style>\n",
       "<table border=\"1\" class=\"dataframe\">\n",
       "  <thead>\n",
       "    <tr style=\"text-align: right;\">\n",
       "      <th></th>\n",
       "      <th>axe1</th>\n",
       "      <th>axe2</th>\n",
       "      <th>axe3</th>\n",
       "      <th>(axe1,axe2)</th>\n",
       "      <th>(axe1,axe3)</th>\n",
       "    </tr>\n",
       "  </thead>\n",
       "  <tbody>\n",
       "    <tr>\n",
       "      <th>Poids</th>\n",
       "      <td>0.616939</td>\n",
       "      <td>0.070499</td>\n",
       "      <td>0.254028</td>\n",
       "      <td>0.687439</td>\n",
       "      <td>0.870967</td>\n",
       "    </tr>\n",
       "    <tr>\n",
       "      <th>Taille</th>\n",
       "      <td>0.606929</td>\n",
       "      <td>0.162029</td>\n",
       "      <td>0.161290</td>\n",
       "      <td>0.768958</td>\n",
       "      <td>0.768219</td>\n",
       "    </tr>\n",
       "    <tr>\n",
       "      <th>Age</th>\n",
       "      <td>0.474103</td>\n",
       "      <td>0.373757</td>\n",
       "      <td>0.129776</td>\n",
       "      <td>0.847860</td>\n",
       "      <td>0.603879</td>\n",
       "    </tr>\n",
       "    <tr>\n",
       "      <th>Note</th>\n",
       "      <td>0.692927</td>\n",
       "      <td>0.144025</td>\n",
       "      <td>0.039311</td>\n",
       "      <td>0.836953</td>\n",
       "      <td>0.732239</td>\n",
       "    </tr>\n",
       "  </tbody>\n",
       "</table>\n",
       "</div>"
      ],
      "text/plain": [
       "            axe1      axe2      axe3  (axe1,axe2)  (axe1,axe3)\n",
       "Poids   0.616939  0.070499  0.254028     0.687439     0.870967\n",
       "Taille  0.606929  0.162029  0.161290     0.768958     0.768219\n",
       "Age     0.474103  0.373757  0.129776     0.847860     0.603879\n",
       "Note    0.692927  0.144025  0.039311     0.836953     0.732239"
      ]
     },
     "execution_count": 78,
     "metadata": {},
     "output_type": "execute_result"
    }
   ],
   "source": [
    "# lest remove the last colum\n",
    "qualite_variable=qualite_variable.iloc[:,:3]\n",
    "## adding (axe1,axe2) , (axe1,axe3) collums ===>\n",
    "qualite_variable['(axe1,axe2)']=qualite_variable['axe1']+qualite_variable['axe2']\n",
    "qualite_variable['(axe1,axe3)']=qualite_variable['axe1']+qualite_variable['axe3']\n",
    "qualite_variable"
   ]
  },
  {
   "cell_type": "markdown",
   "id": "ba7ef202-f16f-4fb2-b5e1-896ed6c4f4d4",
   "metadata": {},
   "source": [
    "### Etape 8: Contributions des individus et des variables aux axes principals retenus:"
   ]
  },
  {
   "cell_type": "code",
   "execution_count": 79,
   "id": "bf1b9be8-0760-4f11-9f98-6edaabbc46ff",
   "metadata": {},
   "outputs": [
    {
     "data": {
      "text/html": [
       "<div>\n",
       "<style scoped>\n",
       "    .dataframe tbody tr th:only-of-type {\n",
       "        vertical-align: middle;\n",
       "    }\n",
       "\n",
       "    .dataframe tbody tr th {\n",
       "        vertical-align: top;\n",
       "    }\n",
       "\n",
       "    .dataframe thead th {\n",
       "        text-align: right;\n",
       "    }\n",
       "</style>\n",
       "<table border=\"1\" class=\"dataframe\">\n",
       "  <thead>\n",
       "    <tr style=\"text-align: right;\">\n",
       "      <th></th>\n",
       "      <th>axe1</th>\n",
       "      <th>axe2</th>\n",
       "      <th>axe3</th>\n",
       "      <th>axe4</th>\n",
       "    </tr>\n",
       "    <tr>\n",
       "      <th>eleve</th>\n",
       "      <th></th>\n",
       "      <th></th>\n",
       "      <th></th>\n",
       "      <th></th>\n",
       "    </tr>\n",
       "  </thead>\n",
       "  <tbody>\n",
       "    <tr>\n",
       "      <th>1</th>\n",
       "      <td>0.291141</td>\n",
       "      <td>0.005494</td>\n",
       "      <td>0.001854</td>\n",
       "      <td>0.397560</td>\n",
       "    </tr>\n",
       "    <tr>\n",
       "      <th>2</th>\n",
       "      <td>0.157974</td>\n",
       "      <td>0.017066</td>\n",
       "      <td>0.017043</td>\n",
       "      <td>0.044523</td>\n",
       "    </tr>\n",
       "    <tr>\n",
       "      <th>3</th>\n",
       "      <td>0.086996</td>\n",
       "      <td>0.085838</td>\n",
       "      <td>0.059722</td>\n",
       "      <td>0.086154</td>\n",
       "    </tr>\n",
       "    <tr>\n",
       "      <th>4</th>\n",
       "      <td>0.181483</td>\n",
       "      <td>0.000819</td>\n",
       "      <td>0.246735</td>\n",
       "      <td>0.013429</td>\n",
       "    </tr>\n",
       "    <tr>\n",
       "      <th>5</th>\n",
       "      <td>0.040724</td>\n",
       "      <td>0.023520</td>\n",
       "      <td>0.014982</td>\n",
       "      <td>0.001018</td>\n",
       "    </tr>\n",
       "    <tr>\n",
       "      <th>6</th>\n",
       "      <td>0.090836</td>\n",
       "      <td>0.088827</td>\n",
       "      <td>0.000643</td>\n",
       "      <td>0.112086</td>\n",
       "    </tr>\n",
       "    <tr>\n",
       "      <th>7</th>\n",
       "      <td>0.072540</td>\n",
       "      <td>0.016635</td>\n",
       "      <td>0.361885</td>\n",
       "      <td>0.060974</td>\n",
       "    </tr>\n",
       "    <tr>\n",
       "      <th>8</th>\n",
       "      <td>0.007784</td>\n",
       "      <td>0.002449</td>\n",
       "      <td>0.267146</td>\n",
       "      <td>0.165641</td>\n",
       "    </tr>\n",
       "    <tr>\n",
       "      <th>9</th>\n",
       "      <td>0.013645</td>\n",
       "      <td>0.758461</td>\n",
       "      <td>0.029166</td>\n",
       "      <td>0.001849</td>\n",
       "    </tr>\n",
       "    <tr>\n",
       "      <th>10</th>\n",
       "      <td>0.056877</td>\n",
       "      <td>0.000892</td>\n",
       "      <td>0.000824</td>\n",
       "      <td>0.116765</td>\n",
       "    </tr>\n",
       "  </tbody>\n",
       "</table>\n",
       "</div>"
      ],
      "text/plain": [
       "           axe1      axe2      axe3      axe4\n",
       "eleve                                        \n",
       "1      0.291141  0.005494  0.001854  0.397560\n",
       "2      0.157974  0.017066  0.017043  0.044523\n",
       "3      0.086996  0.085838  0.059722  0.086154\n",
       "4      0.181483  0.000819  0.246735  0.013429\n",
       "5      0.040724  0.023520  0.014982  0.001018\n",
       "6      0.090836  0.088827  0.000643  0.112086\n",
       "7      0.072540  0.016635  0.361885  0.060974\n",
       "8      0.007784  0.002449  0.267146  0.165641\n",
       "9      0.013645  0.758461  0.029166  0.001849\n",
       "10     0.056877  0.000892  0.000824  0.116765"
      ]
     },
     "execution_count": 79,
     "metadata": {},
     "output_type": "execute_result"
    }
   ],
   "source": [
    "#qualité de représentation des individus\n",
    "contribution_individu=[]\n",
    "for index in range(coordonnees_des_individus.shape[1]):\n",
    "    contribution_individu.append(coordonnees_des_individus_square.T[index]/(data.shape[0]*valeurs_propres_ordonnes[index]))\n",
    "##lest make a data frame for this table also::\n",
    "contribution_individu_df=pd.DataFrame(np.array(contribution_individu).T,index=data.index,columns=['axe1','axe2','axe3','axe4'])\n",
    "contribution_individu_df"
   ]
  },
  {
   "cell_type": "code",
   "execution_count": 80,
   "id": "07cd202e-e3cd-4c40-8af3-b4d17ed71b0e",
   "metadata": {},
   "outputs": [
    {
     "data": {
      "text/html": [
       "<div>\n",
       "<style scoped>\n",
       "    .dataframe tbody tr th:only-of-type {\n",
       "        vertical-align: middle;\n",
       "    }\n",
       "\n",
       "    .dataframe tbody tr th {\n",
       "        vertical-align: top;\n",
       "    }\n",
       "\n",
       "    .dataframe thead th {\n",
       "        text-align: right;\n",
       "    }\n",
       "</style>\n",
       "<table border=\"1\" class=\"dataframe\">\n",
       "  <thead>\n",
       "    <tr style=\"text-align: right;\">\n",
       "      <th></th>\n",
       "      <th>axe1</th>\n",
       "      <th>axe2</th>\n",
       "      <th>axe3</th>\n",
       "      <th>axe4</th>\n",
       "    </tr>\n",
       "  </thead>\n",
       "  <tbody>\n",
       "    <tr>\n",
       "      <th>Poids</th>\n",
       "      <td>0.616939</td>\n",
       "      <td>0.070499</td>\n",
       "      <td>0.254028</td>\n",
       "      <td>0.058533</td>\n",
       "    </tr>\n",
       "    <tr>\n",
       "      <th>Taille</th>\n",
       "      <td>0.606929</td>\n",
       "      <td>0.162029</td>\n",
       "      <td>0.161290</td>\n",
       "      <td>0.069751</td>\n",
       "    </tr>\n",
       "    <tr>\n",
       "      <th>Age</th>\n",
       "      <td>0.474103</td>\n",
       "      <td>0.373757</td>\n",
       "      <td>0.129776</td>\n",
       "      <td>0.022363</td>\n",
       "    </tr>\n",
       "    <tr>\n",
       "      <th>Note</th>\n",
       "      <td>0.692927</td>\n",
       "      <td>0.144025</td>\n",
       "      <td>0.039311</td>\n",
       "      <td>0.123736</td>\n",
       "    </tr>\n",
       "  </tbody>\n",
       "</table>\n",
       "</div>"
      ],
      "text/plain": [
       "            axe1      axe2      axe3      axe4\n",
       "Poids   0.616939  0.070499  0.254028  0.058533\n",
       "Taille  0.606929  0.162029  0.161290  0.069751\n",
       "Age     0.474103  0.373757  0.129776  0.022363\n",
       "Note    0.692927  0.144025  0.039311  0.123736"
      ]
     },
     "execution_count": 80,
     "metadata": {},
     "output_type": "execute_result"
    }
   ],
   "source": [
    "contribution_variable=coordonnees_des_variables.apply(lambda x: x**2)\n",
    "contribution_variable.columns=['axe1','axe2','axe3','axe4']\n",
    "contribution_variable"
   ]
  },
  {
   "cell_type": "code",
   "execution_count": 81,
   "id": "cfcf98c7-59db-4df0-9d62-475377012da4",
   "metadata": {},
   "outputs": [],
   "source": [
    "contribution_variable.axe1=contribution_variable.axe1/valeurs_propres_ordonnes[0]\n",
    "contribution_variable.axe2=contribution_variable.axe1/valeurs_propres_ordonnes[1]\n",
    "contribution_variable.axe3=contribution_variable.axe1/valeurs_propres_ordonnes[2]\n",
    "contribution_variable.axe4=contribution_variable.axe1/valeurs_propres_ordonnes[3]"
   ]
  },
  {
   "cell_type": "code",
   "execution_count": 82,
   "id": "fbd03c73-2e63-4927-904c-71c54a592141",
   "metadata": {},
   "outputs": [
    {
     "data": {
      "text/html": [
       "<div>\n",
       "<style scoped>\n",
       "    .dataframe tbody tr th:only-of-type {\n",
       "        vertical-align: middle;\n",
       "    }\n",
       "\n",
       "    .dataframe tbody tr th {\n",
       "        vertical-align: top;\n",
       "    }\n",
       "\n",
       "    .dataframe thead th {\n",
       "        text-align: right;\n",
       "    }\n",
       "</style>\n",
       "<table border=\"1\" class=\"dataframe\">\n",
       "  <thead>\n",
       "    <tr style=\"text-align: right;\">\n",
       "      <th></th>\n",
       "      <th>axe1</th>\n",
       "      <th>axe2</th>\n",
       "      <th>axe3</th>\n",
       "      <th>axe4</th>\n",
       "    </tr>\n",
       "  </thead>\n",
       "  <tbody>\n",
       "    <tr>\n",
       "      <th>Poids</th>\n",
       "      <td>0.258037</td>\n",
       "      <td>0.343906</td>\n",
       "      <td>0.441536</td>\n",
       "      <td>0.940423</td>\n",
       "    </tr>\n",
       "    <tr>\n",
       "      <th>Taille</th>\n",
       "      <td>0.253850</td>\n",
       "      <td>0.338326</td>\n",
       "      <td>0.434372</td>\n",
       "      <td>0.925164</td>\n",
       "    </tr>\n",
       "    <tr>\n",
       "      <th>Age</th>\n",
       "      <td>0.198295</td>\n",
       "      <td>0.264284</td>\n",
       "      <td>0.339310</td>\n",
       "      <td>0.722692</td>\n",
       "    </tr>\n",
       "    <tr>\n",
       "      <th>Note</th>\n",
       "      <td>0.289819</td>\n",
       "      <td>0.386265</td>\n",
       "      <td>0.495920</td>\n",
       "      <td>1.056254</td>\n",
       "    </tr>\n",
       "  </tbody>\n",
       "</table>\n",
       "</div>"
      ],
      "text/plain": [
       "            axe1      axe2      axe3      axe4\n",
       "Poids   0.258037  0.343906  0.441536  0.940423\n",
       "Taille  0.253850  0.338326  0.434372  0.925164\n",
       "Age     0.198295  0.264284  0.339310  0.722692\n",
       "Note    0.289819  0.386265  0.495920  1.056254"
      ]
     },
     "execution_count": 82,
     "metadata": {},
     "output_type": "execute_result"
    }
   ],
   "source": [
    "contribution_variable"
   ]
  },
  {
   "cell_type": "markdown",
   "id": "33c87e7c-1380-4289-8bae-90e5231a1a11",
   "metadata": {},
   "source": [
    "### Etape 9: Représentation graphique des individus:"
   ]
  },
  {
   "cell_type": "code",
   "execution_count": 83,
   "id": "a32384e1-e41a-4bbf-b523-2b30740d261f",
   "metadata": {},
   "outputs": [
    {
     "data": {
      "image/png": "[encoded data removed]",
      "text/plain": [
       "<Figure size 800x800 with 1 Axes>"
      ]
     },
     "metadata": {},
     "output_type": "display_data"
    }
   ],
   "source": [
    "# Scatter plot\n",
    "plt.figure(figsize=(8, 8))\n",
    "plt.scatter(x=coordonnees_des_individus_df.C1, y=coordonnees_des_individus_df.C2, marker='*')\n",
    "\n",
    "# Plotting x=0 and y=0 lines\n",
    "plt.axhline(0, color='black', linewidth=0.5)\n",
    "plt.axvline(0, color='black', linewidth=0.5)\n",
    "\n",
    "# Annotating points with their names\n",
    "for i in coordonnees_des_individus_df.index:\n",
    "    plt.annotate(i, (coordonnees_des_individus_df.C1[i], coordonnees_des_individus_df.C2[i]), fontsize=12)\n",
    "\n",
    "# Setting plot limits\n",
    "plt.xlim(-3, 3)\n",
    "plt.ylim(-1, 3)\n",
    "\n",
    "# Adding labels and title\n",
    "plt.xlabel('Axe principal 1')\n",
    "plt.ylabel('Axe principal 2')\n",
    "plt.title('le plan principal (axe1,axe2):')\n",
    "\n",
    "# Display plot\n",
    "plt.grid(True)\n",
    "plt.show()"
   ]
  },
  {
   "cell_type": "code",
   "execution_count": 85,
   "id": "49e5f256-0939-41fd-b42c-256fd5c53c04",
   "metadata": {},
   "outputs": [
    {
     "data": {
      "image/png": "[encoded data removed]",
      "text/plain": [
       "<Figure size 800x800 with 1 Axes>"
      ]
     },
     "metadata": {},
     "output_type": "display_data"
    }
   ],
   "source": [
    "# Scatter plot\n",
    "plt.figure(figsize=(8, 8))\n",
    "plt.scatter(x=coordonnees_des_individus_df.C1, y=coordonnees_des_individus_df.C3, marker='*')\n",
    "\n",
    "# Plotting x=0 and y=0 lines\n",
    "plt.axhline(0, color='black', linewidth=0.5)\n",
    "plt.axvline(0, color='black', linewidth=0.5)\n",
    "\n",
    "# Annotating points with their names\n",
    "for i in coordonnees_des_individus_df.index:\n",
    "    plt.annotate(i, (coordonnees_des_individus_df.C1[i], coordonnees_des_individus_df.C3[i]), fontsize=12)\n",
    "\n",
    "# Setting plot limits\n",
    "plt.xlim(-3, 3)\n",
    "plt.ylim(-1, 3)\n",
    "\n",
    "# Adding labels and title\n",
    "plt.xlabel('Axe principal 1')\n",
    "plt.ylabel('Axe principal 3')\n",
    "plt.title('le plan principal (axe1,axe3):')\n",
    "\n",
    "# Display plot\n",
    "plt.grid(True)\n",
    "plt.show()"
   ]
  },
  {
   "cell_type": "code",
   "execution_count": 92,
   "id": "1f4df250-dac2-4ff4-8394-591eb58a2310",
   "metadata": {},
   "outputs": [
    {
     "name": "stderr",
     "output_type": "stream",
     "text": [
      "/tmp/ipykernel_18882/2862211639.py:9: FutureWarning: Series.__getitem__ treating keys as positions is deprecated. In a future version, integer keys will always be treated as labels (consistent with DataFrame behavior). To access a value by position, use `ser.iloc[pos]`\n",
      "  plt.annotate(txt, (coordonnees_des_variables['C1'][i], coordonnees_des_variables['C2'][i]), fontsize=12)\n"
     ]
    },
    {
     "data": {
      "image/png": "[encoded data removed]",
      "text/plain": [
       "<Figure size 800x800 with 1 Axes>"
      ]
     },
     "metadata": {},
     "output_type": "display_data"
    }
   ],
   "source": [
    "plt.figure(figsize=(8, 8))\n",
    "\n",
    "# Plotting vectors from origin to points\n",
    "for i, row in coordonnees_des_variables.iloc[:,[0,1]].iterrows():\n",
    "    plt.arrow(0, 0, row['C1'], row['C2'], head_width=0.09, head_length=0.08, fc='blue', ec='blue')\n",
    "\n",
    "# Annotating points with their names\n",
    "for i, txt in enumerate(coordonnees_des_variables.index):\n",
    "    plt.annotate(txt, (coordonnees_des_variables['C1'][i], coordonnees_des_variables['C2'][i]), fontsize=12)\n",
    "\n",
    "# Plotting x=0 and y=0 lines\n",
    "plt.axhline(0, color='black', linewidth=0.5)\n",
    "plt.axvline(0, color='black', linewidth=0.5)\n",
    "# Adding a circle with radius r=1\n",
    "circle = plt.Circle((0, 0), 1, color='red', fill=False)\n",
    "plt.gca().add_patch(circle)\n",
    "# Setting plot limits\n",
    "plt.xlim(-1.5, 1.5)\n",
    "plt.ylim(-1.5, 1.5)\n",
    "\n",
    "# Adding labels and title\n",
    "plt.xlabel('Axe principal 1')\n",
    "plt.ylabel('Axe principal 2')\n",
    "plt.title('le plan principal (axe1,axe2):')\n",
    "\n",
    "\n",
    "# Display plot\n",
    "plt.grid(True)\n",
    "plt.show()\n"
   ]
  },
  {
   "cell_type": "code",
   "execution_count": 94,
   "id": "a8159c82-2729-4597-944b-388990e8774f",
   "metadata": {},
   "outputs": [
    {
     "name": "stderr",
     "output_type": "stream",
     "text": [
      "/tmp/ipykernel_18882/450476552.py:9: FutureWarning: Series.__getitem__ treating keys as positions is deprecated. In a future version, integer keys will always be treated as labels (consistent with DataFrame behavior). To access a value by position, use `ser.iloc[pos]`\n",
      "  plt.annotate(txt, (coordonnees_des_variables['C1'][i], coordonnees_des_variables['C3'][i]), fontsize=12)\n"
     ]
    },
    {
     "data": {
      "image/png": "[encoded data removed]",
      "text/plain": [
       "<Figure size 800x800 with 1 Axes>"
      ]
     },
     "metadata": {},
     "output_type": "display_data"
    }
   ],
   "source": [
    "plt.figure(figsize=(8, 8))\n",
    "\n",
    "# Plotting vectors from origin to points\n",
    "for i, row in coordonnees_des_variables.iloc[:,[0,2]].iterrows():\n",
    "    plt.arrow(0, 0, row['C1'], row['C3'], head_width=0.09, head_length=0.08, fc='blue', ec='blue')\n",
    "\n",
    "# Annotating points with their names\n",
    "for i, txt in enumerate(coordonnees_des_variables.index):\n",
    "    plt.annotate(txt, (coordonnees_des_variables['C1'][i], coordonnees_des_variables['C3'][i]), fontsize=12)\n",
    "\n",
    "# Plotting x=0 and y=0 lines\n",
    "plt.axhline(0, color='black', linewidth=0.5)\n",
    "plt.axvline(0, color='black', linewidth=0.5)\n",
    "# Adding a circle with radius r=1\n",
    "circle = plt.Circle((0, 0), 1, color='red', fill=False)\n",
    "plt.gca().add_patch(circle)\n",
    "# Setting plot limits\n",
    "plt.xlim(-1.5, 1.5)\n",
    "plt.ylim(-1.5, 1.5)\n",
    "\n",
    "# Adding labels and title\n",
    "plt.xlabel('Axe principal 1')\n",
    "plt.ylabel('Axe principal 3')\n",
    "plt.title('le plan principal (axe1,axe3):')\n",
    "\n",
    "\n",
    "# Display plot\n",
    "plt.grid(True)\n",
    "plt.show()\n"
   ]
  },
  {
   "cell_type": "code",
   "execution_count": 87,
   "id": "1c6f7ea7-e3ad-4aad-a0d6-3fea8f3a8054",
   "metadata": {},
   "outputs": [
    {
     "data": {
      "text/plain": [
       "array([[-0.06043738,  2.62473598, -0.14147731, -1.09127041],\n",
       "       [ 0.28877024,  1.96467288,  0.33635174,  0.26524348],\n",
       "       [ 0.35570451,  1.50005952,  0.89719382,  0.3574832 ],\n",
       "       [ 1.01119025, -2.11912995,  0.50466629, -0.23684167],\n",
       "       [ 0.06322841, -0.95249124,  0.57354259,  0.01750174],\n",
       "       [-0.35455061, -1.40855106,  0.83177641, -0.58992499],\n",
       "       [-1.31107808, -1.30917656, -0.80291652, -0.25261574],\n",
       "       [-1.15410765,  0.49186463, -0.3040445 ,  0.74421316],\n",
       "       [ 1.30049186,  0.34740324, -2.08301381,  0.20410177],\n",
       "       [-0.13921154, -1.13938744,  0.18792129,  0.58210946]])"
      ]
     },
     "execution_count": 87,
     "metadata": {},
     "output_type": "execute_result"
    }
   ],
   "source": [
    "Xtelda@valuer_vecteur_pro_f.values.T"
   ]
  },
  {
   "cell_type": "code",
   "execution_count": null,
   "id": "660d15e7-d282-4d6b-a363-b6c2bfa8d5a7",
   "metadata": {},
   "outputs": [],
   "source": []
  }
 ],
 "metadata": {
  "kernelspec": {
   "display_name": "Python 3 (ipykernel)",
   "language": "python",
   "name": "python3"
  },
  "language_info": {
   "codemirror_mode": {
    "name": "ipython",
    "version": 3
   },
   "file_extension": ".py",
   "mimetype": "text/x-python",
   "name": "python",
   "nbconvert_exporter": "python",
   "pygments_lexer": "ipython3",
   "version": "3.11.7"
  },
  "widgets": {
   "application/vnd.jupyter.widget-state+json": {
    "state": {},
    "version_major": 2,
    "version_minor": 0
   }
  }
 },
 "nbformat": 4,
 "nbformat_minor": 5
}
